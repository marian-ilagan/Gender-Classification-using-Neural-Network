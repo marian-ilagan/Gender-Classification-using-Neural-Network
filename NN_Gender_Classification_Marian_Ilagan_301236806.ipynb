{
  "cells": [
    {
      "cell_type": "markdown",
      "metadata": {
        "id": "view-in-github",
        "colab_type": "text"
      },
      "source": [
        "<a href=\"https://colab.research.google.com/github/marian-ilagan/Gender-Classification-using-Neural-Network/blob/main/NN_Gender_Classification_Marian_Ilagan_301236806.ipynb\" target=\"_parent\"><img src=\"https://colab.research.google.com/assets/colab-badge.svg\" alt=\"Open In Colab\"/></a>"
      ]
    },
    {
      "cell_type": "markdown",
      "source": [
        "This dataset can be used for various classification and data analysis tasks, such as predicting an individual's gender or income level based on their occupation, education level, and other demographic factors.\n",
        "It consists of 10 columns as given:\n",
        "\n",
        "ID: unique identifier for each individual in the dataset\n",
        "Age: age in years\n",
        "\n",
        "Height (cm): height in centimeters\n",
        "\n",
        "Weight (kg): weight in kilograms\n",
        "\n",
        "Occupation: profession or job title\n",
        "\n",
        "Education Level: highest level of education attained\n",
        "\n",
        "Marital Status: single, married, divorced, widowed, etc.\n",
        "\n",
        "Income (USD): annual income in US dollars\n",
        "\n",
        "Favorite Color: favorite color of the individual (this column is just for fun and has no real meaning)\n",
        "\n",
        "Gender: male or female (Gender is the target label)\n",
        "\n",
        "\n",
        "Downloaded from:\n",
        "\n",
        "https://www.kaggle.com/datasets/muhammadtalharasool/simple-gender-classification?resource=download"
      ],
      "metadata": {
        "id": "XROobGaSJJDh"
      }
    },
    {
      "cell_type": "code",
      "source": [
        "import pandas as pd #data processing\n",
        "import numpy as np #linear algebra\n",
        "from sklearn.preprocessing import StandardScaler #data scaling\n",
        "from sklearn.model_selection import train_test_split #data partition\n",
        "from sklearn.neural_network import MLPClassifier\n",
        "\n",
        "!pip install dmba\n",
        "from dmba import classificationSummary"
      ],
      "metadata": {
        "colab": {
          "base_uri": "https://localhost:8080/"
        },
        "id": "bqyIeoR8JMBG",
        "outputId": "e9093ae0-8398-44d4-b6a0-0eed264f854f"
      },
      "execution_count": null,
      "outputs": [
        {
          "output_type": "stream",
          "name": "stdout",
          "text": [
            "Looking in indexes: https://pypi.org/simple, https://us-python.pkg.dev/colab-wheels/public/simple/\n",
            "Requirement already satisfied: dmba in /usr/local/lib/python3.9/dist-packages (0.1.0)\n"
          ]
        }
      ]
    },
    {
      "cell_type": "code",
      "source": [
        "#load and read data\n",
        "gender = pd.read_csv('gender.csv')\n",
        "gender.head()"
      ],
      "metadata": {
        "colab": {
          "base_uri": "https://localhost:8080/",
          "height": 206
        },
        "id": "sA-RwtS20UIt",
        "outputId": "ed792b74-ae6f-4a20-f0b0-4493bb8feb84"
      },
      "execution_count": null,
      "outputs": [
        {
          "output_type": "execute_result",
          "data": {
            "text/plain": [
              "    Age   Height (cm)   Weight (kg)             Occupation  \\\n",
              "0    32           175            70      Software Engineer   \n",
              "1    25           182            85   Sales Representative   \n",
              "2    41           160            62                 Doctor   \n",
              "3    38           178            79                 Lawyer   \n",
              "4    29           165            58       Graphic Designer   \n",
              "\n",
              "       Education Level  Marital Status   Income (USD)  Favorite Color   Gender  \n",
              "0      Master's Degree         Married          75000            Blue     male  \n",
              "1    Bachelor's Degree          Single          45000           Green     male  \n",
              "2     Doctorate Degree         Married         120000          Purple   female  \n",
              "3    Bachelor's Degree          Single          90000             Red     male  \n",
              "4   Associate's Degree          Single          35000          Yellow   female  "
            ],
            "text/html": [
              "\n",
              "  <div id=\"df-06d7f259-5606-4bab-81d4-67cd619eff78\">\n",
              "    <div class=\"colab-df-container\">\n",
              "      <div>\n",
              "<style scoped>\n",
              "    .dataframe tbody tr th:only-of-type {\n",
              "        vertical-align: middle;\n",
              "    }\n",
              "\n",
              "    .dataframe tbody tr th {\n",
              "        vertical-align: top;\n",
              "    }\n",
              "\n",
              "    .dataframe thead th {\n",
              "        text-align: right;\n",
              "    }\n",
              "</style>\n",
              "<table border=\"1\" class=\"dataframe\">\n",
              "  <thead>\n",
              "    <tr style=\"text-align: right;\">\n",
              "      <th></th>\n",
              "      <th>Age</th>\n",
              "      <th>Height (cm)</th>\n",
              "      <th>Weight (kg)</th>\n",
              "      <th>Occupation</th>\n",
              "      <th>Education Level</th>\n",
              "      <th>Marital Status</th>\n",
              "      <th>Income (USD)</th>\n",
              "      <th>Favorite Color</th>\n",
              "      <th>Gender</th>\n",
              "    </tr>\n",
              "  </thead>\n",
              "  <tbody>\n",
              "    <tr>\n",
              "      <th>0</th>\n",
              "      <td>32</td>\n",
              "      <td>175</td>\n",
              "      <td>70</td>\n",
              "      <td>Software Engineer</td>\n",
              "      <td>Master's Degree</td>\n",
              "      <td>Married</td>\n",
              "      <td>75000</td>\n",
              "      <td>Blue</td>\n",
              "      <td>male</td>\n",
              "    </tr>\n",
              "    <tr>\n",
              "      <th>1</th>\n",
              "      <td>25</td>\n",
              "      <td>182</td>\n",
              "      <td>85</td>\n",
              "      <td>Sales Representative</td>\n",
              "      <td>Bachelor's Degree</td>\n",
              "      <td>Single</td>\n",
              "      <td>45000</td>\n",
              "      <td>Green</td>\n",
              "      <td>male</td>\n",
              "    </tr>\n",
              "    <tr>\n",
              "      <th>2</th>\n",
              "      <td>41</td>\n",
              "      <td>160</td>\n",
              "      <td>62</td>\n",
              "      <td>Doctor</td>\n",
              "      <td>Doctorate Degree</td>\n",
              "      <td>Married</td>\n",
              "      <td>120000</td>\n",
              "      <td>Purple</td>\n",
              "      <td>female</td>\n",
              "    </tr>\n",
              "    <tr>\n",
              "      <th>3</th>\n",
              "      <td>38</td>\n",
              "      <td>178</td>\n",
              "      <td>79</td>\n",
              "      <td>Lawyer</td>\n",
              "      <td>Bachelor's Degree</td>\n",
              "      <td>Single</td>\n",
              "      <td>90000</td>\n",
              "      <td>Red</td>\n",
              "      <td>male</td>\n",
              "    </tr>\n",
              "    <tr>\n",
              "      <th>4</th>\n",
              "      <td>29</td>\n",
              "      <td>165</td>\n",
              "      <td>58</td>\n",
              "      <td>Graphic Designer</td>\n",
              "      <td>Associate's Degree</td>\n",
              "      <td>Single</td>\n",
              "      <td>35000</td>\n",
              "      <td>Yellow</td>\n",
              "      <td>female</td>\n",
              "    </tr>\n",
              "  </tbody>\n",
              "</table>\n",
              "</div>\n",
              "      <button class=\"colab-df-convert\" onclick=\"convertToInteractive('df-06d7f259-5606-4bab-81d4-67cd619eff78')\"\n",
              "              title=\"Convert this dataframe to an interactive table.\"\n",
              "              style=\"display:none;\">\n",
              "        \n",
              "  <svg xmlns=\"http://www.w3.org/2000/svg\" height=\"24px\"viewBox=\"0 0 24 24\"\n",
              "       width=\"24px\">\n",
              "    <path d=\"M0 0h24v24H0V0z\" fill=\"none\"/>\n",
              "    <path d=\"M18.56 5.44l.94 2.06.94-2.06 2.06-.94-2.06-.94-.94-2.06-.94 2.06-2.06.94zm-11 1L8.5 8.5l.94-2.06 2.06-.94-2.06-.94L8.5 2.5l-.94 2.06-2.06.94zm10 10l.94 2.06.94-2.06 2.06-.94-2.06-.94-.94-2.06-.94 2.06-2.06.94z\"/><path d=\"M17.41 7.96l-1.37-1.37c-.4-.4-.92-.59-1.43-.59-.52 0-1.04.2-1.43.59L10.3 9.45l-7.72 7.72c-.78.78-.78 2.05 0 2.83L4 21.41c.39.39.9.59 1.41.59.51 0 1.02-.2 1.41-.59l7.78-7.78 2.81-2.81c.8-.78.8-2.07 0-2.86zM5.41 20L4 18.59l7.72-7.72 1.47 1.35L5.41 20z\"/>\n",
              "  </svg>\n",
              "      </button>\n",
              "      \n",
              "  <style>\n",
              "    .colab-df-container {\n",
              "      display:flex;\n",
              "      flex-wrap:wrap;\n",
              "      gap: 12px;\n",
              "    }\n",
              "\n",
              "    .colab-df-convert {\n",
              "      background-color: #E8F0FE;\n",
              "      border: none;\n",
              "      border-radius: 50%;\n",
              "      cursor: pointer;\n",
              "      display: none;\n",
              "      fill: #1967D2;\n",
              "      height: 32px;\n",
              "      padding: 0 0 0 0;\n",
              "      width: 32px;\n",
              "    }\n",
              "\n",
              "    .colab-df-convert:hover {\n",
              "      background-color: #E2EBFA;\n",
              "      box-shadow: 0px 1px 2px rgba(60, 64, 67, 0.3), 0px 1px 3px 1px rgba(60, 64, 67, 0.15);\n",
              "      fill: #174EA6;\n",
              "    }\n",
              "\n",
              "    [theme=dark] .colab-df-convert {\n",
              "      background-color: #3B4455;\n",
              "      fill: #D2E3FC;\n",
              "    }\n",
              "\n",
              "    [theme=dark] .colab-df-convert:hover {\n",
              "      background-color: #434B5C;\n",
              "      box-shadow: 0px 1px 3px 1px rgba(0, 0, 0, 0.15);\n",
              "      filter: drop-shadow(0px 1px 2px rgba(0, 0, 0, 0.3));\n",
              "      fill: #FFFFFF;\n",
              "    }\n",
              "  </style>\n",
              "\n",
              "      <script>\n",
              "        const buttonEl =\n",
              "          document.querySelector('#df-06d7f259-5606-4bab-81d4-67cd619eff78 button.colab-df-convert');\n",
              "        buttonEl.style.display =\n",
              "          google.colab.kernel.accessAllowed ? 'block' : 'none';\n",
              "\n",
              "        async function convertToInteractive(key) {\n",
              "          const element = document.querySelector('#df-06d7f259-5606-4bab-81d4-67cd619eff78');\n",
              "          const dataTable =\n",
              "            await google.colab.kernel.invokeFunction('convertToInteractive',\n",
              "                                                     [key], {});\n",
              "          if (!dataTable) return;\n",
              "\n",
              "          const docLinkHtml = 'Like what you see? Visit the ' +\n",
              "            '<a target=\"_blank\" href=https://colab.research.google.com/notebooks/data_table.ipynb>data table notebook</a>'\n",
              "            + ' to learn more about interactive tables.';\n",
              "          element.innerHTML = '';\n",
              "          dataTable['output_type'] = 'display_data';\n",
              "          await google.colab.output.renderOutput(dataTable, element);\n",
              "          const docLink = document.createElement('div');\n",
              "          docLink.innerHTML = docLinkHtml;\n",
              "          element.appendChild(docLink);\n",
              "        }\n",
              "      </script>\n",
              "    </div>\n",
              "  </div>\n",
              "  "
            ]
          },
          "metadata": {},
          "execution_count": 234
        }
      ]
    },
    {
      "cell_type": "markdown",
      "source": [
        "##Data Preprocessing"
      ],
      "metadata": {
        "id": "NjkFK5vy1G8v"
      }
    },
    {
      "cell_type": "markdown",
      "source": [
        "**Data quality assessment** - summary\n",
        "\n",
        "\n",
        "\n",
        "> The following needs to be done in data cleaning and transformation:\n",
        "\n",
        "*   Remove extra spaces on column names\n",
        "*   Remove duplicates on categorical values\n",
        "*   Remove duplicated row (88, 127)\n",
        "*   Create dummies for categorical variables\n",
        "*   Standardize data to lessen the bias in the model\n",
        "\n",
        "\n",
        "\n",
        "\n",
        "\n",
        "\n",
        "\n",
        "\n",
        "\n",
        "\n",
        "\n",
        "\n"
      ],
      "metadata": {
        "id": "KCNfgWJF16dT"
      }
    },
    {
      "cell_type": "code",
      "source": [
        "gender.info()\n",
        "\n",
        "#there are 131 observations, 9 features including the target variable.\n",
        "#there are 4 numeric variables, 4 categorical variables and a categorical target\n",
        "#there are no missing values\n",
        "#need to rename columns to remove spaces"
      ],
      "metadata": {
        "colab": {
          "base_uri": "https://localhost:8080/"
        },
        "id": "2tPynQ7g1IZ5",
        "outputId": "651d27cf-36a6-46bf-8ca6-d5afa6064e3d"
      },
      "execution_count": null,
      "outputs": [
        {
          "output_type": "stream",
          "name": "stdout",
          "text": [
            "<class 'pandas.core.frame.DataFrame'>\n",
            "RangeIndex: 131 entries, 0 to 130\n",
            "Data columns (total 9 columns):\n",
            " #   Column            Non-Null Count  Dtype \n",
            "---  ------            --------------  ----- \n",
            " 0    Age              131 non-null    int64 \n",
            " 1    Height (cm)      131 non-null    int64 \n",
            " 2    Weight (kg)      131 non-null    int64 \n",
            " 3    Occupation       131 non-null    object\n",
            " 4    Education Level  131 non-null    object\n",
            " 5    Marital Status   131 non-null    object\n",
            " 6    Income (USD)     131 non-null    int64 \n",
            " 7    Favorite Color   131 non-null    object\n",
            " 8    Gender           131 non-null    object\n",
            "dtypes: int64(4), object(5)\n",
            "memory usage: 9.3+ KB\n"
          ]
        }
      ]
    },
    {
      "cell_type": "code",
      "source": [
        "gender.describe()\n",
        "#we need to scale the data to avoid bias on the model"
      ],
      "metadata": {
        "colab": {
          "base_uri": "https://localhost:8080/",
          "height": 300
        },
        "id": "kqzSTlXp2E4L",
        "outputId": "9c00134b-e3f7-4de4-e5ea-602cef226a35"
      },
      "execution_count": null,
      "outputs": [
        {
          "output_type": "execute_result",
          "data": {
            "text/plain": [
              "              Age   Height (cm)   Weight (kg)   Income (USD)\n",
              "count  131.000000    131.000000    131.000000     131.000000\n",
              "mean    34.564885    173.198473     71.458015   93206.106870\n",
              "std      5.984723      8.045467     12.648052   74045.382919\n",
              "min     24.000000    160.000000     50.000000   30000.000000\n",
              "25%     29.000000    166.000000     60.000000   55000.000000\n",
              "50%     34.000000    175.000000     75.000000   75000.000000\n",
              "75%     39.000000    180.500000     83.000000  100000.000000\n",
              "max     52.000000    190.000000     94.000000  500000.000000"
            ],
            "text/html": [
              "\n",
              "  <div id=\"df-ae6e972e-c950-4e37-9441-506cc9635bcb\">\n",
              "    <div class=\"colab-df-container\">\n",
              "      <div>\n",
              "<style scoped>\n",
              "    .dataframe tbody tr th:only-of-type {\n",
              "        vertical-align: middle;\n",
              "    }\n",
              "\n",
              "    .dataframe tbody tr th {\n",
              "        vertical-align: top;\n",
              "    }\n",
              "\n",
              "    .dataframe thead th {\n",
              "        text-align: right;\n",
              "    }\n",
              "</style>\n",
              "<table border=\"1\" class=\"dataframe\">\n",
              "  <thead>\n",
              "    <tr style=\"text-align: right;\">\n",
              "      <th></th>\n",
              "      <th>Age</th>\n",
              "      <th>Height (cm)</th>\n",
              "      <th>Weight (kg)</th>\n",
              "      <th>Income (USD)</th>\n",
              "    </tr>\n",
              "  </thead>\n",
              "  <tbody>\n",
              "    <tr>\n",
              "      <th>count</th>\n",
              "      <td>131.000000</td>\n",
              "      <td>131.000000</td>\n",
              "      <td>131.000000</td>\n",
              "      <td>131.000000</td>\n",
              "    </tr>\n",
              "    <tr>\n",
              "      <th>mean</th>\n",
              "      <td>34.564885</td>\n",
              "      <td>173.198473</td>\n",
              "      <td>71.458015</td>\n",
              "      <td>93206.106870</td>\n",
              "    </tr>\n",
              "    <tr>\n",
              "      <th>std</th>\n",
              "      <td>5.984723</td>\n",
              "      <td>8.045467</td>\n",
              "      <td>12.648052</td>\n",
              "      <td>74045.382919</td>\n",
              "    </tr>\n",
              "    <tr>\n",
              "      <th>min</th>\n",
              "      <td>24.000000</td>\n",
              "      <td>160.000000</td>\n",
              "      <td>50.000000</td>\n",
              "      <td>30000.000000</td>\n",
              "    </tr>\n",
              "    <tr>\n",
              "      <th>25%</th>\n",
              "      <td>29.000000</td>\n",
              "      <td>166.000000</td>\n",
              "      <td>60.000000</td>\n",
              "      <td>55000.000000</td>\n",
              "    </tr>\n",
              "    <tr>\n",
              "      <th>50%</th>\n",
              "      <td>34.000000</td>\n",
              "      <td>175.000000</td>\n",
              "      <td>75.000000</td>\n",
              "      <td>75000.000000</td>\n",
              "    </tr>\n",
              "    <tr>\n",
              "      <th>75%</th>\n",
              "      <td>39.000000</td>\n",
              "      <td>180.500000</td>\n",
              "      <td>83.000000</td>\n",
              "      <td>100000.000000</td>\n",
              "    </tr>\n",
              "    <tr>\n",
              "      <th>max</th>\n",
              "      <td>52.000000</td>\n",
              "      <td>190.000000</td>\n",
              "      <td>94.000000</td>\n",
              "      <td>500000.000000</td>\n",
              "    </tr>\n",
              "  </tbody>\n",
              "</table>\n",
              "</div>\n",
              "      <button class=\"colab-df-convert\" onclick=\"convertToInteractive('df-ae6e972e-c950-4e37-9441-506cc9635bcb')\"\n",
              "              title=\"Convert this dataframe to an interactive table.\"\n",
              "              style=\"display:none;\">\n",
              "        \n",
              "  <svg xmlns=\"http://www.w3.org/2000/svg\" height=\"24px\"viewBox=\"0 0 24 24\"\n",
              "       width=\"24px\">\n",
              "    <path d=\"M0 0h24v24H0V0z\" fill=\"none\"/>\n",
              "    <path d=\"M18.56 5.44l.94 2.06.94-2.06 2.06-.94-2.06-.94-.94-2.06-.94 2.06-2.06.94zm-11 1L8.5 8.5l.94-2.06 2.06-.94-2.06-.94L8.5 2.5l-.94 2.06-2.06.94zm10 10l.94 2.06.94-2.06 2.06-.94-2.06-.94-.94-2.06-.94 2.06-2.06.94z\"/><path d=\"M17.41 7.96l-1.37-1.37c-.4-.4-.92-.59-1.43-.59-.52 0-1.04.2-1.43.59L10.3 9.45l-7.72 7.72c-.78.78-.78 2.05 0 2.83L4 21.41c.39.39.9.59 1.41.59.51 0 1.02-.2 1.41-.59l7.78-7.78 2.81-2.81c.8-.78.8-2.07 0-2.86zM5.41 20L4 18.59l7.72-7.72 1.47 1.35L5.41 20z\"/>\n",
              "  </svg>\n",
              "      </button>\n",
              "      \n",
              "  <style>\n",
              "    .colab-df-container {\n",
              "      display:flex;\n",
              "      flex-wrap:wrap;\n",
              "      gap: 12px;\n",
              "    }\n",
              "\n",
              "    .colab-df-convert {\n",
              "      background-color: #E8F0FE;\n",
              "      border: none;\n",
              "      border-radius: 50%;\n",
              "      cursor: pointer;\n",
              "      display: none;\n",
              "      fill: #1967D2;\n",
              "      height: 32px;\n",
              "      padding: 0 0 0 0;\n",
              "      width: 32px;\n",
              "    }\n",
              "\n",
              "    .colab-df-convert:hover {\n",
              "      background-color: #E2EBFA;\n",
              "      box-shadow: 0px 1px 2px rgba(60, 64, 67, 0.3), 0px 1px 3px 1px rgba(60, 64, 67, 0.15);\n",
              "      fill: #174EA6;\n",
              "    }\n",
              "\n",
              "    [theme=dark] .colab-df-convert {\n",
              "      background-color: #3B4455;\n",
              "      fill: #D2E3FC;\n",
              "    }\n",
              "\n",
              "    [theme=dark] .colab-df-convert:hover {\n",
              "      background-color: #434B5C;\n",
              "      box-shadow: 0px 1px 3px 1px rgba(0, 0, 0, 0.15);\n",
              "      filter: drop-shadow(0px 1px 2px rgba(0, 0, 0, 0.3));\n",
              "      fill: #FFFFFF;\n",
              "    }\n",
              "  </style>\n",
              "\n",
              "      <script>\n",
              "        const buttonEl =\n",
              "          document.querySelector('#df-ae6e972e-c950-4e37-9441-506cc9635bcb button.colab-df-convert');\n",
              "        buttonEl.style.display =\n",
              "          google.colab.kernel.accessAllowed ? 'block' : 'none';\n",
              "\n",
              "        async function convertToInteractive(key) {\n",
              "          const element = document.querySelector('#df-ae6e972e-c950-4e37-9441-506cc9635bcb');\n",
              "          const dataTable =\n",
              "            await google.colab.kernel.invokeFunction('convertToInteractive',\n",
              "                                                     [key], {});\n",
              "          if (!dataTable) return;\n",
              "\n",
              "          const docLinkHtml = 'Like what you see? Visit the ' +\n",
              "            '<a target=\"_blank\" href=https://colab.research.google.com/notebooks/data_table.ipynb>data table notebook</a>'\n",
              "            + ' to learn more about interactive tables.';\n",
              "          element.innerHTML = '';\n",
              "          dataTable['output_type'] = 'display_data';\n",
              "          await google.colab.output.renderOutput(dataTable, element);\n",
              "          const docLink = document.createElement('div');\n",
              "          docLink.innerHTML = docLinkHtml;\n",
              "          element.appendChild(docLink);\n",
              "        }\n",
              "      </script>\n",
              "    </div>\n",
              "  </div>\n",
              "  "
            ]
          },
          "metadata": {},
          "execution_count": 236
        }
      ]
    },
    {
      "cell_type": "code",
      "source": [
        "for col in gender.columns:\n",
        "  print(gender[col].unique())\n",
        "#Some values have leading and trailing spaces that cause duplicates (e.g. ' Business Analyst' and Business Analyst')"
      ],
      "metadata": {
        "colab": {
          "base_uri": "https://localhost:8080/"
        },
        "id": "mdyZJn-b3Z1G",
        "outputId": "93a36fb1-94d4-4d5c-c2a6-c658dd17be5d"
      },
      "execution_count": null,
      "outputs": [
        {
          "output_type": "stream",
          "name": "stdout",
          "text": [
            "[32 25 41 38 29 45 27 52 31 36 24 44 28 33 37 26 40 47 35 42 49 30 39 34\n",
            " 43]\n",
            "[175 182 160 178 165 190 163 179 168 177 162 183 166 181 170 176 169 187\n",
            " 172 180 167 185 188 174 164 186 184]\n",
            "[70 85 62 79 58 92 55 83 61 76 53 87 60 84 65 78 59 75 82 74 63 90 56 80\n",
            " 68 57 81 50 54 86 77 88 94 64]\n",
            "[' Software Engineer' ' Sales Representative' ' Doctor' ' Lawyer'\n",
            " ' Graphic Designer' ' Business Consultant' ' Marketing Specialist' ' CEO'\n",
            " ' Project Manager' ' Engineer' ' Accountant' ' Architect' ' Nurse'\n",
            " ' Analyst' ' Teacher' ' IT Manager' ' Writer' ' Business Analyst'\n",
            " 'Engineer' 'Teacher' 'Doctor' 'Graphic Designer' 'IT Manager'\n",
            " 'Sales Representative' 'Lawyer' 'Marketing Specialist' 'Project Manager'\n",
            " 'Writer' 'Architect' 'Nurse' 'Business Analyst' 'Accountant' 'CEO'\n",
            " 'Analyst' 'Software Developer']\n",
            "[\" Master's Degree\" \" Bachelor's Degree\" ' Doctorate Degree'\n",
            " \" Associate's Degree\" \"Master's Degree\" \"Bachelor's Degree\"\n",
            " 'Doctorate Degree' \"Associate's Degree\"]\n",
            "[' Married' ' Single' ' Divorced' ' Widowed' 'Single' 'Married' 'Divorced']\n",
            "[ 75000  45000 120000  90000  35000 110000  50000 500000  80000  95000\n",
            "  40000  55000  60000  65000  85000  30000 150000  70000 100000 130000\n",
            " 180000 250000]\n",
            "[' Blue' ' Green' ' Purple' ' Red' ' Yellow' ' Black' ' Pink' ' Orange'\n",
            " ' Grey' 'Blue' 'Green' 'Red' 'Orange' 'Purple' 'Yellow' 'Black' 'Grey'\n",
            " 'Pink']\n",
            "[' male' ' female' 'male' 'female']\n"
          ]
        }
      ]
    },
    {
      "cell_type": "code",
      "source": [
        "duplicate = gender[gender.duplicated(keep = False)]\n",
        " \n",
        "print(\"Duplicate Rows :\")\n",
        " \n",
        "#printing results\n",
        "duplicate"
      ],
      "metadata": {
        "colab": {
          "base_uri": "https://localhost:8080/",
          "height": 130
        },
        "id": "0tdBZuzxA7Qc",
        "outputId": "8a9578e6-95d0-48b1-bc31-5ba062493653"
      },
      "execution_count": null,
      "outputs": [
        {
          "output_type": "stream",
          "name": "stdout",
          "text": [
            "Duplicate Rows :\n"
          ]
        },
        {
          "output_type": "execute_result",
          "data": {
            "text/plain": [
              "      Age   Height (cm)   Weight (kg)       Occupation    Education Level  \\\n",
              "88     38           176            79  Project Manager  Bachelor's Degree   \n",
              "127    38           176            79  Project Manager  Bachelor's Degree   \n",
              "\n",
              "     Marital Status   Income (USD)  Favorite Color  Gender  \n",
              "88          Married          90000           Black    male  \n",
              "127         Married          90000           Black    male  "
            ],
            "text/html": [
              "\n",
              "  <div id=\"df-618704d0-a665-425a-807d-28db70a6b489\">\n",
              "    <div class=\"colab-df-container\">\n",
              "      <div>\n",
              "<style scoped>\n",
              "    .dataframe tbody tr th:only-of-type {\n",
              "        vertical-align: middle;\n",
              "    }\n",
              "\n",
              "    .dataframe tbody tr th {\n",
              "        vertical-align: top;\n",
              "    }\n",
              "\n",
              "    .dataframe thead th {\n",
              "        text-align: right;\n",
              "    }\n",
              "</style>\n",
              "<table border=\"1\" class=\"dataframe\">\n",
              "  <thead>\n",
              "    <tr style=\"text-align: right;\">\n",
              "      <th></th>\n",
              "      <th>Age</th>\n",
              "      <th>Height (cm)</th>\n",
              "      <th>Weight (kg)</th>\n",
              "      <th>Occupation</th>\n",
              "      <th>Education Level</th>\n",
              "      <th>Marital Status</th>\n",
              "      <th>Income (USD)</th>\n",
              "      <th>Favorite Color</th>\n",
              "      <th>Gender</th>\n",
              "    </tr>\n",
              "  </thead>\n",
              "  <tbody>\n",
              "    <tr>\n",
              "      <th>88</th>\n",
              "      <td>38</td>\n",
              "      <td>176</td>\n",
              "      <td>79</td>\n",
              "      <td>Project Manager</td>\n",
              "      <td>Bachelor's Degree</td>\n",
              "      <td>Married</td>\n",
              "      <td>90000</td>\n",
              "      <td>Black</td>\n",
              "      <td>male</td>\n",
              "    </tr>\n",
              "    <tr>\n",
              "      <th>127</th>\n",
              "      <td>38</td>\n",
              "      <td>176</td>\n",
              "      <td>79</td>\n",
              "      <td>Project Manager</td>\n",
              "      <td>Bachelor's Degree</td>\n",
              "      <td>Married</td>\n",
              "      <td>90000</td>\n",
              "      <td>Black</td>\n",
              "      <td>male</td>\n",
              "    </tr>\n",
              "  </tbody>\n",
              "</table>\n",
              "</div>\n",
              "      <button class=\"colab-df-convert\" onclick=\"convertToInteractive('df-618704d0-a665-425a-807d-28db70a6b489')\"\n",
              "              title=\"Convert this dataframe to an interactive table.\"\n",
              "              style=\"display:none;\">\n",
              "        \n",
              "  <svg xmlns=\"http://www.w3.org/2000/svg\" height=\"24px\"viewBox=\"0 0 24 24\"\n",
              "       width=\"24px\">\n",
              "    <path d=\"M0 0h24v24H0V0z\" fill=\"none\"/>\n",
              "    <path d=\"M18.56 5.44l.94 2.06.94-2.06 2.06-.94-2.06-.94-.94-2.06-.94 2.06-2.06.94zm-11 1L8.5 8.5l.94-2.06 2.06-.94-2.06-.94L8.5 2.5l-.94 2.06-2.06.94zm10 10l.94 2.06.94-2.06 2.06-.94-2.06-.94-.94-2.06-.94 2.06-2.06.94z\"/><path d=\"M17.41 7.96l-1.37-1.37c-.4-.4-.92-.59-1.43-.59-.52 0-1.04.2-1.43.59L10.3 9.45l-7.72 7.72c-.78.78-.78 2.05 0 2.83L4 21.41c.39.39.9.59 1.41.59.51 0 1.02-.2 1.41-.59l7.78-7.78 2.81-2.81c.8-.78.8-2.07 0-2.86zM5.41 20L4 18.59l7.72-7.72 1.47 1.35L5.41 20z\"/>\n",
              "  </svg>\n",
              "      </button>\n",
              "      \n",
              "  <style>\n",
              "    .colab-df-container {\n",
              "      display:flex;\n",
              "      flex-wrap:wrap;\n",
              "      gap: 12px;\n",
              "    }\n",
              "\n",
              "    .colab-df-convert {\n",
              "      background-color: #E8F0FE;\n",
              "      border: none;\n",
              "      border-radius: 50%;\n",
              "      cursor: pointer;\n",
              "      display: none;\n",
              "      fill: #1967D2;\n",
              "      height: 32px;\n",
              "      padding: 0 0 0 0;\n",
              "      width: 32px;\n",
              "    }\n",
              "\n",
              "    .colab-df-convert:hover {\n",
              "      background-color: #E2EBFA;\n",
              "      box-shadow: 0px 1px 2px rgba(60, 64, 67, 0.3), 0px 1px 3px 1px rgba(60, 64, 67, 0.15);\n",
              "      fill: #174EA6;\n",
              "    }\n",
              "\n",
              "    [theme=dark] .colab-df-convert {\n",
              "      background-color: #3B4455;\n",
              "      fill: #D2E3FC;\n",
              "    }\n",
              "\n",
              "    [theme=dark] .colab-df-convert:hover {\n",
              "      background-color: #434B5C;\n",
              "      box-shadow: 0px 1px 3px 1px rgba(0, 0, 0, 0.15);\n",
              "      filter: drop-shadow(0px 1px 2px rgba(0, 0, 0, 0.3));\n",
              "      fill: #FFFFFF;\n",
              "    }\n",
              "  </style>\n",
              "\n",
              "      <script>\n",
              "        const buttonEl =\n",
              "          document.querySelector('#df-618704d0-a665-425a-807d-28db70a6b489 button.colab-df-convert');\n",
              "        buttonEl.style.display =\n",
              "          google.colab.kernel.accessAllowed ? 'block' : 'none';\n",
              "\n",
              "        async function convertToInteractive(key) {\n",
              "          const element = document.querySelector('#df-618704d0-a665-425a-807d-28db70a6b489');\n",
              "          const dataTable =\n",
              "            await google.colab.kernel.invokeFunction('convertToInteractive',\n",
              "                                                     [key], {});\n",
              "          if (!dataTable) return;\n",
              "\n",
              "          const docLinkHtml = 'Like what you see? Visit the ' +\n",
              "            '<a target=\"_blank\" href=https://colab.research.google.com/notebooks/data_table.ipynb>data table notebook</a>'\n",
              "            + ' to learn more about interactive tables.';\n",
              "          element.innerHTML = '';\n",
              "          dataTable['output_type'] = 'display_data';\n",
              "          await google.colab.output.renderOutput(dataTable, element);\n",
              "          const docLink = document.createElement('div');\n",
              "          docLink.innerHTML = docLinkHtml;\n",
              "          element.appendChild(docLink);\n",
              "        }\n",
              "      </script>\n",
              "    </div>\n",
              "  </div>\n",
              "  "
            ]
          },
          "metadata": {},
          "execution_count": 238
        }
      ]
    },
    {
      "cell_type": "markdown",
      "source": [
        "**Data cleaning**"
      ],
      "metadata": {
        "id": "_633mn7V7Pm9"
      }
    },
    {
      "cell_type": "code",
      "source": [
        "#Removing extra spaces on columns\n",
        "gender.columns = [s.strip().replace(' ', '_') for s in gender.columns]\n",
        "gender.info()"
      ],
      "metadata": {
        "colab": {
          "base_uri": "https://localhost:8080/"
        },
        "id": "HpwPa4mO7S2-",
        "outputId": "2f7e7dc9-37ef-402a-859e-8fd4ad1ecad4"
      },
      "execution_count": null,
      "outputs": [
        {
          "output_type": "stream",
          "name": "stdout",
          "text": [
            "<class 'pandas.core.frame.DataFrame'>\n",
            "RangeIndex: 131 entries, 0 to 130\n",
            "Data columns (total 9 columns):\n",
            " #   Column           Non-Null Count  Dtype \n",
            "---  ------           --------------  ----- \n",
            " 0   Age              131 non-null    int64 \n",
            " 1   Height_(cm)      131 non-null    int64 \n",
            " 2   Weight_(kg)      131 non-null    int64 \n",
            " 3   Occupation       131 non-null    object\n",
            " 4   Education_Level  131 non-null    object\n",
            " 5   Marital_Status   131 non-null    object\n",
            " 6   Income_(USD)     131 non-null    int64 \n",
            " 7   Favorite_Color   131 non-null    object\n",
            " 8   Gender           131 non-null    object\n",
            "dtypes: int64(4), object(5)\n",
            "memory usage: 9.3+ KB\n"
          ]
        }
      ]
    },
    {
      "cell_type": "code",
      "source": [
        "#Remove extra leading and tailing spaces from the data.\n",
        "def remove_spaces(gender):\n",
        "    for i in gender.columns: # iterating over the columns\n",
        "        if gender[i].dtype == 'object':  # checking datatype of each columns\n",
        "            gender[i] = gender[i].map(str.strip) # applying strip function on column\n",
        "        else:\n",
        "            pass\n",
        " \n",
        "# applying whitespace_remover function on dataframe\n",
        "remove_spaces(gender)\n",
        " \n",
        "# printing dataframe to verify if extra spaces are removed\n",
        "for col in gender.columns:\n",
        "  print(gender[col].unique())"
      ],
      "metadata": {
        "colab": {
          "base_uri": "https://localhost:8080/"
        },
        "id": "XGy8-hu-8eqE",
        "outputId": "d1258cb1-2b73-450a-e7ab-af4783c453dc"
      },
      "execution_count": null,
      "outputs": [
        {
          "output_type": "stream",
          "name": "stdout",
          "text": [
            "[32 25 41 38 29 45 27 52 31 36 24 44 28 33 37 26 40 47 35 42 49 30 39 34\n",
            " 43]\n",
            "[175 182 160 178 165 190 163 179 168 177 162 183 166 181 170 176 169 187\n",
            " 172 180 167 185 188 174 164 186 184]\n",
            "[70 85 62 79 58 92 55 83 61 76 53 87 60 84 65 78 59 75 82 74 63 90 56 80\n",
            " 68 57 81 50 54 86 77 88 94 64]\n",
            "['Software Engineer' 'Sales Representative' 'Doctor' 'Lawyer'\n",
            " 'Graphic Designer' 'Business Consultant' 'Marketing Specialist' 'CEO'\n",
            " 'Project Manager' 'Engineer' 'Accountant' 'Architect' 'Nurse' 'Analyst'\n",
            " 'Teacher' 'IT Manager' 'Writer' 'Business Analyst' 'Software Developer']\n",
            "[\"Master's Degree\" \"Bachelor's Degree\" 'Doctorate Degree'\n",
            " \"Associate's Degree\"]\n",
            "['Married' 'Single' 'Divorced' 'Widowed']\n",
            "[ 75000  45000 120000  90000  35000 110000  50000 500000  80000  95000\n",
            "  40000  55000  60000  65000  85000  30000 150000  70000 100000 130000\n",
            " 180000 250000]\n",
            "['Blue' 'Green' 'Purple' 'Red' 'Yellow' 'Black' 'Pink' 'Orange' 'Grey']\n",
            "['male' 'female']\n"
          ]
        }
      ]
    },
    {
      "cell_type": "code",
      "source": [
        "#rechecking if there are other duplicates. After removing the spaces, there are no other duplicates aside from the two rows.\n",
        "duplicate = gender[gender.duplicated(keep = False)]\n",
        " \n",
        "print(\"Duplicate Rows :\")\n",
        " \n",
        "#printing results\n",
        "duplicate"
      ],
      "metadata": {
        "colab": {
          "base_uri": "https://localhost:8080/",
          "height": 130
        },
        "id": "tmYk4GH6_MIJ",
        "outputId": "a7eb07f9-48c2-4b96-c47f-7e8c820c8f39"
      },
      "execution_count": null,
      "outputs": [
        {
          "output_type": "stream",
          "name": "stdout",
          "text": [
            "Duplicate Rows :\n"
          ]
        },
        {
          "output_type": "execute_result",
          "data": {
            "text/plain": [
              "     Age  Height_(cm)  Weight_(kg)       Occupation    Education_Level  \\\n",
              "88    38          176           79  Project Manager  Bachelor's Degree   \n",
              "127   38          176           79  Project Manager  Bachelor's Degree   \n",
              "\n",
              "    Marital_Status  Income_(USD) Favorite_Color Gender  \n",
              "88         Married         90000          Black   male  \n",
              "127        Married         90000          Black   male  "
            ],
            "text/html": [
              "\n",
              "  <div id=\"df-201d22ed-d3b9-4851-858c-2c86f0ffea96\">\n",
              "    <div class=\"colab-df-container\">\n",
              "      <div>\n",
              "<style scoped>\n",
              "    .dataframe tbody tr th:only-of-type {\n",
              "        vertical-align: middle;\n",
              "    }\n",
              "\n",
              "    .dataframe tbody tr th {\n",
              "        vertical-align: top;\n",
              "    }\n",
              "\n",
              "    .dataframe thead th {\n",
              "        text-align: right;\n",
              "    }\n",
              "</style>\n",
              "<table border=\"1\" class=\"dataframe\">\n",
              "  <thead>\n",
              "    <tr style=\"text-align: right;\">\n",
              "      <th></th>\n",
              "      <th>Age</th>\n",
              "      <th>Height_(cm)</th>\n",
              "      <th>Weight_(kg)</th>\n",
              "      <th>Occupation</th>\n",
              "      <th>Education_Level</th>\n",
              "      <th>Marital_Status</th>\n",
              "      <th>Income_(USD)</th>\n",
              "      <th>Favorite_Color</th>\n",
              "      <th>Gender</th>\n",
              "    </tr>\n",
              "  </thead>\n",
              "  <tbody>\n",
              "    <tr>\n",
              "      <th>88</th>\n",
              "      <td>38</td>\n",
              "      <td>176</td>\n",
              "      <td>79</td>\n",
              "      <td>Project Manager</td>\n",
              "      <td>Bachelor's Degree</td>\n",
              "      <td>Married</td>\n",
              "      <td>90000</td>\n",
              "      <td>Black</td>\n",
              "      <td>male</td>\n",
              "    </tr>\n",
              "    <tr>\n",
              "      <th>127</th>\n",
              "      <td>38</td>\n",
              "      <td>176</td>\n",
              "      <td>79</td>\n",
              "      <td>Project Manager</td>\n",
              "      <td>Bachelor's Degree</td>\n",
              "      <td>Married</td>\n",
              "      <td>90000</td>\n",
              "      <td>Black</td>\n",
              "      <td>male</td>\n",
              "    </tr>\n",
              "  </tbody>\n",
              "</table>\n",
              "</div>\n",
              "      <button class=\"colab-df-convert\" onclick=\"convertToInteractive('df-201d22ed-d3b9-4851-858c-2c86f0ffea96')\"\n",
              "              title=\"Convert this dataframe to an interactive table.\"\n",
              "              style=\"display:none;\">\n",
              "        \n",
              "  <svg xmlns=\"http://www.w3.org/2000/svg\" height=\"24px\"viewBox=\"0 0 24 24\"\n",
              "       width=\"24px\">\n",
              "    <path d=\"M0 0h24v24H0V0z\" fill=\"none\"/>\n",
              "    <path d=\"M18.56 5.44l.94 2.06.94-2.06 2.06-.94-2.06-.94-.94-2.06-.94 2.06-2.06.94zm-11 1L8.5 8.5l.94-2.06 2.06-.94-2.06-.94L8.5 2.5l-.94 2.06-2.06.94zm10 10l.94 2.06.94-2.06 2.06-.94-2.06-.94-.94-2.06-.94 2.06-2.06.94z\"/><path d=\"M17.41 7.96l-1.37-1.37c-.4-.4-.92-.59-1.43-.59-.52 0-1.04.2-1.43.59L10.3 9.45l-7.72 7.72c-.78.78-.78 2.05 0 2.83L4 21.41c.39.39.9.59 1.41.59.51 0 1.02-.2 1.41-.59l7.78-7.78 2.81-2.81c.8-.78.8-2.07 0-2.86zM5.41 20L4 18.59l7.72-7.72 1.47 1.35L5.41 20z\"/>\n",
              "  </svg>\n",
              "      </button>\n",
              "      \n",
              "  <style>\n",
              "    .colab-df-container {\n",
              "      display:flex;\n",
              "      flex-wrap:wrap;\n",
              "      gap: 12px;\n",
              "    }\n",
              "\n",
              "    .colab-df-convert {\n",
              "      background-color: #E8F0FE;\n",
              "      border: none;\n",
              "      border-radius: 50%;\n",
              "      cursor: pointer;\n",
              "      display: none;\n",
              "      fill: #1967D2;\n",
              "      height: 32px;\n",
              "      padding: 0 0 0 0;\n",
              "      width: 32px;\n",
              "    }\n",
              "\n",
              "    .colab-df-convert:hover {\n",
              "      background-color: #E2EBFA;\n",
              "      box-shadow: 0px 1px 2px rgba(60, 64, 67, 0.3), 0px 1px 3px 1px rgba(60, 64, 67, 0.15);\n",
              "      fill: #174EA6;\n",
              "    }\n",
              "\n",
              "    [theme=dark] .colab-df-convert {\n",
              "      background-color: #3B4455;\n",
              "      fill: #D2E3FC;\n",
              "    }\n",
              "\n",
              "    [theme=dark] .colab-df-convert:hover {\n",
              "      background-color: #434B5C;\n",
              "      box-shadow: 0px 1px 3px 1px rgba(0, 0, 0, 0.15);\n",
              "      filter: drop-shadow(0px 1px 2px rgba(0, 0, 0, 0.3));\n",
              "      fill: #FFFFFF;\n",
              "    }\n",
              "  </style>\n",
              "\n",
              "      <script>\n",
              "        const buttonEl =\n",
              "          document.querySelector('#df-201d22ed-d3b9-4851-858c-2c86f0ffea96 button.colab-df-convert');\n",
              "        buttonEl.style.display =\n",
              "          google.colab.kernel.accessAllowed ? 'block' : 'none';\n",
              "\n",
              "        async function convertToInteractive(key) {\n",
              "          const element = document.querySelector('#df-201d22ed-d3b9-4851-858c-2c86f0ffea96');\n",
              "          const dataTable =\n",
              "            await google.colab.kernel.invokeFunction('convertToInteractive',\n",
              "                                                     [key], {});\n",
              "          if (!dataTable) return;\n",
              "\n",
              "          const docLinkHtml = 'Like what you see? Visit the ' +\n",
              "            '<a target=\"_blank\" href=https://colab.research.google.com/notebooks/data_table.ipynb>data table notebook</a>'\n",
              "            + ' to learn more about interactive tables.';\n",
              "          element.innerHTML = '';\n",
              "          dataTable['output_type'] = 'display_data';\n",
              "          await google.colab.output.renderOutput(dataTable, element);\n",
              "          const docLink = document.createElement('div');\n",
              "          docLink.innerHTML = docLinkHtml;\n",
              "          element.appendChild(docLink);\n",
              "        }\n",
              "      </script>\n",
              "    </div>\n",
              "  </div>\n",
              "  "
            ]
          },
          "metadata": {},
          "execution_count": 241
        }
      ]
    },
    {
      "cell_type": "code",
      "source": [
        "#Removing duplicate row 127\n",
        "gender = gender.drop_duplicates(subset=None, keep='first', inplace=False, ignore_index=False)\n",
        "\n",
        "#validation if duplicate is removed. Correct - only 1 entry is removed\n",
        "gender.shape"
      ],
      "metadata": {
        "colab": {
          "base_uri": "https://localhost:8080/"
        },
        "id": "ubeyzo_7_5LW",
        "outputId": "3299fb92-df91-438f-ebee-837e27ec5f8b"
      },
      "execution_count": null,
      "outputs": [
        {
          "output_type": "execute_result",
          "data": {
            "text/plain": [
              "(130, 9)"
            ]
          },
          "metadata": {},
          "execution_count": 242
        }
      ]
    },
    {
      "cell_type": "code",
      "source": [
        "#creating dummies for categorical variables\n",
        "gender = pd.get_dummies(gender, prefix = ['Occ','Edu','MS','Fav','Gender'], \n",
        "                        columns=['Occupation','Education_Level', 'Marital_Status', 'Favorite_Color','Gender'], drop_first=True)\n",
        "gender.info()"
      ],
      "metadata": {
        "colab": {
          "base_uri": "https://localhost:8080/"
        },
        "id": "ouTdnw3UDeFU",
        "outputId": "b2a9fffc-27b5-4563-e8e6-ddbd16918951"
      },
      "execution_count": null,
      "outputs": [
        {
          "output_type": "stream",
          "name": "stdout",
          "text": [
            "<class 'pandas.core.frame.DataFrame'>\n",
            "Int64Index: 130 entries, 0 to 130\n",
            "Data columns (total 37 columns):\n",
            " #   Column                    Non-Null Count  Dtype\n",
            "---  ------                    --------------  -----\n",
            " 0   Age                       130 non-null    int64\n",
            " 1   Height_(cm)               130 non-null    int64\n",
            " 2   Weight_(kg)               130 non-null    int64\n",
            " 3   Income_(USD)              130 non-null    int64\n",
            " 4   Occ_Analyst               130 non-null    uint8\n",
            " 5   Occ_Architect             130 non-null    uint8\n",
            " 6   Occ_Business Analyst      130 non-null    uint8\n",
            " 7   Occ_Business Consultant   130 non-null    uint8\n",
            " 8   Occ_CEO                   130 non-null    uint8\n",
            " 9   Occ_Doctor                130 non-null    uint8\n",
            " 10  Occ_Engineer              130 non-null    uint8\n",
            " 11  Occ_Graphic Designer      130 non-null    uint8\n",
            " 12  Occ_IT Manager            130 non-null    uint8\n",
            " 13  Occ_Lawyer                130 non-null    uint8\n",
            " 14  Occ_Marketing Specialist  130 non-null    uint8\n",
            " 15  Occ_Nurse                 130 non-null    uint8\n",
            " 16  Occ_Project Manager       130 non-null    uint8\n",
            " 17  Occ_Sales Representative  130 non-null    uint8\n",
            " 18  Occ_Software Developer    130 non-null    uint8\n",
            " 19  Occ_Software Engineer     130 non-null    uint8\n",
            " 20  Occ_Teacher               130 non-null    uint8\n",
            " 21  Occ_Writer                130 non-null    uint8\n",
            " 22  Edu_Bachelor's Degree     130 non-null    uint8\n",
            " 23  Edu_Doctorate Degree      130 non-null    uint8\n",
            " 24  Edu_Master's Degree       130 non-null    uint8\n",
            " 25  MS_Married                130 non-null    uint8\n",
            " 26  MS_Single                 130 non-null    uint8\n",
            " 27  MS_Widowed                130 non-null    uint8\n",
            " 28  Fav_Blue                  130 non-null    uint8\n",
            " 29  Fav_Green                 130 non-null    uint8\n",
            " 30  Fav_Grey                  130 non-null    uint8\n",
            " 31  Fav_Orange                130 non-null    uint8\n",
            " 32  Fav_Pink                  130 non-null    uint8\n",
            " 33  Fav_Purple                130 non-null    uint8\n",
            " 34  Fav_Red                   130 non-null    uint8\n",
            " 35  Fav_Yellow                130 non-null    uint8\n",
            " 36  Gender_male               130 non-null    uint8\n",
            "dtypes: int64(4), uint8(33)\n",
            "memory usage: 9.3 KB\n"
          ]
        }
      ]
    },
    {
      "cell_type": "markdown",
      "source": [
        "**Data transformation / Data reduction (Feature selection)**"
      ],
      "metadata": {
        "id": "jTnFqJ2rE2MX"
      }
    },
    {
      "cell_type": "code",
      "source": [
        "#checking correlation of numerical values.\n",
        "  #Weight and Height are 98% correlated.\n",
        "  #We will exclude Height in the modeling since Weight is more correlated to Gender\n",
        "import seaborn as sns\n",
        "import matplotlib.pyplot as plt\n",
        "col = ['Age', 'Height_(cm)', 'Weight_(kg)','Income_(USD)','Gender_male']\n",
        "corr = gender[col].corr()\n",
        "fig, ax = plt.subplots()\n",
        "sns.heatmap(corr, cmap='RdYlGn', annot=True)"
      ],
      "metadata": {
        "colab": {
          "base_uri": "https://localhost:8080/",
          "height": 348
        },
        "id": "aALTbAnuG-gT",
        "outputId": "8a91bd82-4143-452e-a6a1-ee00ad49aa3f"
      },
      "execution_count": null,
      "outputs": [
        {
          "output_type": "execute_result",
          "data": {
            "text/plain": [
              "<Axes: >"
            ]
          },
          "metadata": {},
          "execution_count": 244
        },
        {
          "output_type": "display_data",
          "data": {
            "text/plain": [
              "<Figure size 432x288 with 2 Axes>"
            ],
            "image/png": "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\n"
          },
          "metadata": {
            "needs_background": "light"
          }
        }
      ]
    },
    {
      "cell_type": "markdown",
      "source": [
        "##Model Training and Evaluation"
      ],
      "metadata": {
        "id": "5MGLnEoGRUDg"
      }
    },
    {
      "cell_type": "code",
      "source": [
        "#define X and y dataframes\n",
        "excluded = ['Height_(cm)', 'Gender_male']\n",
        "outcome = 'Gender_male'\n",
        "predictors = [c for c in gender.columns if c!=outcome]\n",
        "\n",
        "X = gender[predictors]\n",
        "y = gender[outcome]\n",
        "\n",
        "print(X.shape)\n",
        "print(y.shape)"
      ],
      "metadata": {
        "colab": {
          "base_uri": "https://localhost:8080/"
        },
        "id": "WMsgyzRHTe38",
        "outputId": "21c08e60-a4f9-4793-f8fc-7f3e0bc4ab9a"
      },
      "execution_count": null,
      "outputs": [
        {
          "output_type": "stream",
          "name": "stdout",
          "text": [
            "(130, 36)\n",
            "(130,)\n"
          ]
        }
      ]
    },
    {
      "cell_type": "code",
      "source": [
        "#scaling data\n",
        "scale = StandardScaler()\n",
        "X = pd.DataFrame(scale.fit_transform(X), columns=X.columns)\n",
        "round(X.describe(),2)"
      ],
      "metadata": {
        "colab": {
          "base_uri": "https://localhost:8080/",
          "height": 411
        },
        "id": "yNLkcKwXRSmc",
        "outputId": "de9710fd-4a41-48ed-d2fa-3ed3b45735a5"
      },
      "execution_count": null,
      "outputs": [
        {
          "output_type": "execute_result",
          "data": {
            "text/plain": [
              "          Age  Height_(cm)  Weight_(kg)  Income_(USD)  Occ_Analyst  \\\n",
              "count  130.00       130.00       130.00        130.00       130.00   \n",
              "mean    -0.00        -0.00        -0.00         -0.00        -0.00   \n",
              "std      1.00         1.00         1.00          1.00         1.00   \n",
              "min     -1.76        -1.64        -1.69         -0.85        -0.22   \n",
              "25%     -0.93        -0.89        -0.90         -0.52        -0.22   \n",
              "50%     -0.17         0.23         0.25         -0.25        -0.22   \n",
              "75%      0.75         0.94         0.92          0.09        -0.22   \n",
              "max      2.92         2.09         1.79          5.49         4.55   \n",
              "\n",
              "       Occ_Architect  Occ_Business Analyst  Occ_Business Consultant  Occ_CEO  \\\n",
              "count         130.00                 130.0                   130.00   130.00   \n",
              "mean           -0.00                   0.0                     0.00    -0.00   \n",
              "std             1.00                   1.0                     1.00     1.00   \n",
              "min            -0.24                  -0.2                    -0.09    -0.22   \n",
              "25%            -0.24                  -0.2                    -0.09    -0.22   \n",
              "50%            -0.24                  -0.2                    -0.09    -0.22   \n",
              "75%            -0.24                  -0.2                    -0.09    -0.22   \n",
              "max             4.19                   5.0                    11.36     4.55   \n",
              "\n",
              "       Occ_Doctor  ...  MS_Single  MS_Widowed  Fav_Blue  Fav_Green  Fav_Grey  \\\n",
              "count      130.00  ...     130.00      130.00    130.00     130.00    130.00   \n",
              "mean        -0.00  ...       0.00        0.00      0.00       0.00      0.00   \n",
              "std          1.00  ...       1.00        1.00      1.00       1.00      1.00   \n",
              "min         -0.27  ...      -0.91       -0.12     -0.44      -0.44     -0.26   \n",
              "25%         -0.27  ...      -0.91       -0.12     -0.44      -0.44     -0.26   \n",
              "50%         -0.27  ...      -0.91       -0.12     -0.44      -0.44     -0.26   \n",
              "75%         -0.27  ...       1.10       -0.12     -0.44      -0.44     -0.26   \n",
              "max          3.67  ...       1.10        8.00      2.28       2.28      3.91   \n",
              "\n",
              "       Fav_Orange  Fav_Pink  Fav_Purple  Fav_Red  Fav_Yellow  \n",
              "count      130.00    130.00      130.00   130.00      130.00  \n",
              "mean        -0.00     -0.00       -0.00    -0.00        0.00  \n",
              "std          1.00      1.00        1.00     1.00        1.00  \n",
              "min         -0.32     -0.24       -0.39    -0.39       -0.37  \n",
              "25%         -0.32     -0.24       -0.39    -0.39       -0.37  \n",
              "50%         -0.32     -0.24       -0.39    -0.39       -0.37  \n",
              "75%         -0.32     -0.24       -0.39    -0.39       -0.37  \n",
              "max          3.14      4.19        2.58     2.58        2.67  \n",
              "\n",
              "[8 rows x 36 columns]"
            ],
            "text/html": [
              "\n",
              "  <div id=\"df-d92a1047-f1fa-41c7-9353-0ab5ddd1a6fd\">\n",
              "    <div class=\"colab-df-container\">\n",
              "      <div>\n",
              "<style scoped>\n",
              "    .dataframe tbody tr th:only-of-type {\n",
              "        vertical-align: middle;\n",
              "    }\n",
              "\n",
              "    .dataframe tbody tr th {\n",
              "        vertical-align: top;\n",
              "    }\n",
              "\n",
              "    .dataframe thead th {\n",
              "        text-align: right;\n",
              "    }\n",
              "</style>\n",
              "<table border=\"1\" class=\"dataframe\">\n",
              "  <thead>\n",
              "    <tr style=\"text-align: right;\">\n",
              "      <th></th>\n",
              "      <th>Age</th>\n",
              "      <th>Height_(cm)</th>\n",
              "      <th>Weight_(kg)</th>\n",
              "      <th>Income_(USD)</th>\n",
              "      <th>Occ_Analyst</th>\n",
              "      <th>Occ_Architect</th>\n",
              "      <th>Occ_Business Analyst</th>\n",
              "      <th>Occ_Business Consultant</th>\n",
              "      <th>Occ_CEO</th>\n",
              "      <th>Occ_Doctor</th>\n",
              "      <th>...</th>\n",
              "      <th>MS_Single</th>\n",
              "      <th>MS_Widowed</th>\n",
              "      <th>Fav_Blue</th>\n",
              "      <th>Fav_Green</th>\n",
              "      <th>Fav_Grey</th>\n",
              "      <th>Fav_Orange</th>\n",
              "      <th>Fav_Pink</th>\n",
              "      <th>Fav_Purple</th>\n",
              "      <th>Fav_Red</th>\n",
              "      <th>Fav_Yellow</th>\n",
              "    </tr>\n",
              "  </thead>\n",
              "  <tbody>\n",
              "    <tr>\n",
              "      <th>count</th>\n",
              "      <td>130.00</td>\n",
              "      <td>130.00</td>\n",
              "      <td>130.00</td>\n",
              "      <td>130.00</td>\n",
              "      <td>130.00</td>\n",
              "      <td>130.00</td>\n",
              "      <td>130.0</td>\n",
              "      <td>130.00</td>\n",
              "      <td>130.00</td>\n",
              "      <td>130.00</td>\n",
              "      <td>...</td>\n",
              "      <td>130.00</td>\n",
              "      <td>130.00</td>\n",
              "      <td>130.00</td>\n",
              "      <td>130.00</td>\n",
              "      <td>130.00</td>\n",
              "      <td>130.00</td>\n",
              "      <td>130.00</td>\n",
              "      <td>130.00</td>\n",
              "      <td>130.00</td>\n",
              "      <td>130.00</td>\n",
              "    </tr>\n",
              "    <tr>\n",
              "      <th>mean</th>\n",
              "      <td>-0.00</td>\n",
              "      <td>-0.00</td>\n",
              "      <td>-0.00</td>\n",
              "      <td>-0.00</td>\n",
              "      <td>-0.00</td>\n",
              "      <td>-0.00</td>\n",
              "      <td>0.0</td>\n",
              "      <td>0.00</td>\n",
              "      <td>-0.00</td>\n",
              "      <td>-0.00</td>\n",
              "      <td>...</td>\n",
              "      <td>0.00</td>\n",
              "      <td>0.00</td>\n",
              "      <td>0.00</td>\n",
              "      <td>0.00</td>\n",
              "      <td>0.00</td>\n",
              "      <td>-0.00</td>\n",
              "      <td>-0.00</td>\n",
              "      <td>-0.00</td>\n",
              "      <td>-0.00</td>\n",
              "      <td>0.00</td>\n",
              "    </tr>\n",
              "    <tr>\n",
              "      <th>std</th>\n",
              "      <td>1.00</td>\n",
              "      <td>1.00</td>\n",
              "      <td>1.00</td>\n",
              "      <td>1.00</td>\n",
              "      <td>1.00</td>\n",
              "      <td>1.00</td>\n",
              "      <td>1.0</td>\n",
              "      <td>1.00</td>\n",
              "      <td>1.00</td>\n",
              "      <td>1.00</td>\n",
              "      <td>...</td>\n",
              "      <td>1.00</td>\n",
              "      <td>1.00</td>\n",
              "      <td>1.00</td>\n",
              "      <td>1.00</td>\n",
              "      <td>1.00</td>\n",
              "      <td>1.00</td>\n",
              "      <td>1.00</td>\n",
              "      <td>1.00</td>\n",
              "      <td>1.00</td>\n",
              "      <td>1.00</td>\n",
              "    </tr>\n",
              "    <tr>\n",
              "      <th>min</th>\n",
              "      <td>-1.76</td>\n",
              "      <td>-1.64</td>\n",
              "      <td>-1.69</td>\n",
              "      <td>-0.85</td>\n",
              "      <td>-0.22</td>\n",
              "      <td>-0.24</td>\n",
              "      <td>-0.2</td>\n",
              "      <td>-0.09</td>\n",
              "      <td>-0.22</td>\n",
              "      <td>-0.27</td>\n",
              "      <td>...</td>\n",
              "      <td>-0.91</td>\n",
              "      <td>-0.12</td>\n",
              "      <td>-0.44</td>\n",
              "      <td>-0.44</td>\n",
              "      <td>-0.26</td>\n",
              "      <td>-0.32</td>\n",
              "      <td>-0.24</td>\n",
              "      <td>-0.39</td>\n",
              "      <td>-0.39</td>\n",
              "      <td>-0.37</td>\n",
              "    </tr>\n",
              "    <tr>\n",
              "      <th>25%</th>\n",
              "      <td>-0.93</td>\n",
              "      <td>-0.89</td>\n",
              "      <td>-0.90</td>\n",
              "      <td>-0.52</td>\n",
              "      <td>-0.22</td>\n",
              "      <td>-0.24</td>\n",
              "      <td>-0.2</td>\n",
              "      <td>-0.09</td>\n",
              "      <td>-0.22</td>\n",
              "      <td>-0.27</td>\n",
              "      <td>...</td>\n",
              "      <td>-0.91</td>\n",
              "      <td>-0.12</td>\n",
              "      <td>-0.44</td>\n",
              "      <td>-0.44</td>\n",
              "      <td>-0.26</td>\n",
              "      <td>-0.32</td>\n",
              "      <td>-0.24</td>\n",
              "      <td>-0.39</td>\n",
              "      <td>-0.39</td>\n",
              "      <td>-0.37</td>\n",
              "    </tr>\n",
              "    <tr>\n",
              "      <th>50%</th>\n",
              "      <td>-0.17</td>\n",
              "      <td>0.23</td>\n",
              "      <td>0.25</td>\n",
              "      <td>-0.25</td>\n",
              "      <td>-0.22</td>\n",
              "      <td>-0.24</td>\n",
              "      <td>-0.2</td>\n",
              "      <td>-0.09</td>\n",
              "      <td>-0.22</td>\n",
              "      <td>-0.27</td>\n",
              "      <td>...</td>\n",
              "      <td>-0.91</td>\n",
              "      <td>-0.12</td>\n",
              "      <td>-0.44</td>\n",
              "      <td>-0.44</td>\n",
              "      <td>-0.26</td>\n",
              "      <td>-0.32</td>\n",
              "      <td>-0.24</td>\n",
              "      <td>-0.39</td>\n",
              "      <td>-0.39</td>\n",
              "      <td>-0.37</td>\n",
              "    </tr>\n",
              "    <tr>\n",
              "      <th>75%</th>\n",
              "      <td>0.75</td>\n",
              "      <td>0.94</td>\n",
              "      <td>0.92</td>\n",
              "      <td>0.09</td>\n",
              "      <td>-0.22</td>\n",
              "      <td>-0.24</td>\n",
              "      <td>-0.2</td>\n",
              "      <td>-0.09</td>\n",
              "      <td>-0.22</td>\n",
              "      <td>-0.27</td>\n",
              "      <td>...</td>\n",
              "      <td>1.10</td>\n",
              "      <td>-0.12</td>\n",
              "      <td>-0.44</td>\n",
              "      <td>-0.44</td>\n",
              "      <td>-0.26</td>\n",
              "      <td>-0.32</td>\n",
              "      <td>-0.24</td>\n",
              "      <td>-0.39</td>\n",
              "      <td>-0.39</td>\n",
              "      <td>-0.37</td>\n",
              "    </tr>\n",
              "    <tr>\n",
              "      <th>max</th>\n",
              "      <td>2.92</td>\n",
              "      <td>2.09</td>\n",
              "      <td>1.79</td>\n",
              "      <td>5.49</td>\n",
              "      <td>4.55</td>\n",
              "      <td>4.19</td>\n",
              "      <td>5.0</td>\n",
              "      <td>11.36</td>\n",
              "      <td>4.55</td>\n",
              "      <td>3.67</td>\n",
              "      <td>...</td>\n",
              "      <td>1.10</td>\n",
              "      <td>8.00</td>\n",
              "      <td>2.28</td>\n",
              "      <td>2.28</td>\n",
              "      <td>3.91</td>\n",
              "      <td>3.14</td>\n",
              "      <td>4.19</td>\n",
              "      <td>2.58</td>\n",
              "      <td>2.58</td>\n",
              "      <td>2.67</td>\n",
              "    </tr>\n",
              "  </tbody>\n",
              "</table>\n",
              "<p>8 rows × 36 columns</p>\n",
              "</div>\n",
              "      <button class=\"colab-df-convert\" onclick=\"convertToInteractive('df-d92a1047-f1fa-41c7-9353-0ab5ddd1a6fd')\"\n",
              "              title=\"Convert this dataframe to an interactive table.\"\n",
              "              style=\"display:none;\">\n",
              "        \n",
              "  <svg xmlns=\"http://www.w3.org/2000/svg\" height=\"24px\"viewBox=\"0 0 24 24\"\n",
              "       width=\"24px\">\n",
              "    <path d=\"M0 0h24v24H0V0z\" fill=\"none\"/>\n",
              "    <path d=\"M18.56 5.44l.94 2.06.94-2.06 2.06-.94-2.06-.94-.94-2.06-.94 2.06-2.06.94zm-11 1L8.5 8.5l.94-2.06 2.06-.94-2.06-.94L8.5 2.5l-.94 2.06-2.06.94zm10 10l.94 2.06.94-2.06 2.06-.94-2.06-.94-.94-2.06-.94 2.06-2.06.94z\"/><path d=\"M17.41 7.96l-1.37-1.37c-.4-.4-.92-.59-1.43-.59-.52 0-1.04.2-1.43.59L10.3 9.45l-7.72 7.72c-.78.78-.78 2.05 0 2.83L4 21.41c.39.39.9.59 1.41.59.51 0 1.02-.2 1.41-.59l7.78-7.78 2.81-2.81c.8-.78.8-2.07 0-2.86zM5.41 20L4 18.59l7.72-7.72 1.47 1.35L5.41 20z\"/>\n",
              "  </svg>\n",
              "      </button>\n",
              "      \n",
              "  <style>\n",
              "    .colab-df-container {\n",
              "      display:flex;\n",
              "      flex-wrap:wrap;\n",
              "      gap: 12px;\n",
              "    }\n",
              "\n",
              "    .colab-df-convert {\n",
              "      background-color: #E8F0FE;\n",
              "      border: none;\n",
              "      border-radius: 50%;\n",
              "      cursor: pointer;\n",
              "      display: none;\n",
              "      fill: #1967D2;\n",
              "      height: 32px;\n",
              "      padding: 0 0 0 0;\n",
              "      width: 32px;\n",
              "    }\n",
              "\n",
              "    .colab-df-convert:hover {\n",
              "      background-color: #E2EBFA;\n",
              "      box-shadow: 0px 1px 2px rgba(60, 64, 67, 0.3), 0px 1px 3px 1px rgba(60, 64, 67, 0.15);\n",
              "      fill: #174EA6;\n",
              "    }\n",
              "\n",
              "    [theme=dark] .colab-df-convert {\n",
              "      background-color: #3B4455;\n",
              "      fill: #D2E3FC;\n",
              "    }\n",
              "\n",
              "    [theme=dark] .colab-df-convert:hover {\n",
              "      background-color: #434B5C;\n",
              "      box-shadow: 0px 1px 3px 1px rgba(0, 0, 0, 0.15);\n",
              "      filter: drop-shadow(0px 1px 2px rgba(0, 0, 0, 0.3));\n",
              "      fill: #FFFFFF;\n",
              "    }\n",
              "  </style>\n",
              "\n",
              "      <script>\n",
              "        const buttonEl =\n",
              "          document.querySelector('#df-d92a1047-f1fa-41c7-9353-0ab5ddd1a6fd button.colab-df-convert');\n",
              "        buttonEl.style.display =\n",
              "          google.colab.kernel.accessAllowed ? 'block' : 'none';\n",
              "\n",
              "        async function convertToInteractive(key) {\n",
              "          const element = document.querySelector('#df-d92a1047-f1fa-41c7-9353-0ab5ddd1a6fd');\n",
              "          const dataTable =\n",
              "            await google.colab.kernel.invokeFunction('convertToInteractive',\n",
              "                                                     [key], {});\n",
              "          if (!dataTable) return;\n",
              "\n",
              "          const docLinkHtml = 'Like what you see? Visit the ' +\n",
              "            '<a target=\"_blank\" href=https://colab.research.google.com/notebooks/data_table.ipynb>data table notebook</a>'\n",
              "            + ' to learn more about interactive tables.';\n",
              "          element.innerHTML = '';\n",
              "          dataTable['output_type'] = 'display_data';\n",
              "          await google.colab.output.renderOutput(dataTable, element);\n",
              "          const docLink = document.createElement('div');\n",
              "          docLink.innerHTML = docLinkHtml;\n",
              "          element.appendChild(docLink);\n",
              "        }\n",
              "      </script>\n",
              "    </div>\n",
              "  </div>\n",
              "  "
            ]
          },
          "metadata": {},
          "execution_count": 246
        }
      ]
    },
    {
      "cell_type": "code",
      "source": [
        "#data partition\n",
        "X_train, X_valid, y_train, y_valid = train_test_split(X,y,test_size=0.25, random_state = 1)\n",
        "print(X_train.shape)\n",
        "print(X_valid.shape)"
      ],
      "metadata": {
        "colab": {
          "base_uri": "https://localhost:8080/"
        },
        "id": "6Nb_CiR7TF_k",
        "outputId": "e8cf0465-f155-4b68-9feb-63692aaeb2e0"
      },
      "execution_count": null,
      "outputs": [
        {
          "output_type": "stream",
          "name": "stdout",
          "text": [
            "(97, 36)\n",
            "(33, 36)\n"
          ]
        }
      ]
    },
    {
      "cell_type": "code",
      "source": [
        "#data modeling\n",
        "clf = MLPClassifier(hidden_layer_sizes=2, activation='logistic', solver = 'lbfgs', random_state = 1)\n",
        "clf.fit(X_train, y_train)"
      ],
      "metadata": {
        "colab": {
          "base_uri": "https://localhost:8080/",
          "height": 92
        },
        "id": "nZMmIAt4Xd2p",
        "outputId": "f6298ea4-0574-4581-b497-c2b112af981b"
      },
      "execution_count": null,
      "outputs": [
        {
          "output_type": "execute_result",
          "data": {
            "text/plain": [
              "MLPClassifier(activation='logistic', hidden_layer_sizes=2, random_state=1,\n",
              "              solver='lbfgs')"
            ],
            "text/html": [
              "<style>#sk-container-id-7 {color: black;background-color: white;}#sk-container-id-7 pre{padding: 0;}#sk-container-id-7 div.sk-toggleable {background-color: white;}#sk-container-id-7 label.sk-toggleable__label {cursor: pointer;display: block;width: 100%;margin-bottom: 0;padding: 0.3em;box-sizing: border-box;text-align: center;}#sk-container-id-7 label.sk-toggleable__label-arrow:before {content: \"▸\";float: left;margin-right: 0.25em;color: #696969;}#sk-container-id-7 label.sk-toggleable__label-arrow:hover:before {color: black;}#sk-container-id-7 div.sk-estimator:hover label.sk-toggleable__label-arrow:before {color: black;}#sk-container-id-7 div.sk-toggleable__content {max-height: 0;max-width: 0;overflow: hidden;text-align: left;background-color: #f0f8ff;}#sk-container-id-7 div.sk-toggleable__content pre {margin: 0.2em;color: black;border-radius: 0.25em;background-color: #f0f8ff;}#sk-container-id-7 input.sk-toggleable__control:checked~div.sk-toggleable__content {max-height: 200px;max-width: 100%;overflow: auto;}#sk-container-id-7 input.sk-toggleable__control:checked~label.sk-toggleable__label-arrow:before {content: \"▾\";}#sk-container-id-7 div.sk-estimator input.sk-toggleable__control:checked~label.sk-toggleable__label {background-color: #d4ebff;}#sk-container-id-7 div.sk-label input.sk-toggleable__control:checked~label.sk-toggleable__label {background-color: #d4ebff;}#sk-container-id-7 input.sk-hidden--visually {border: 0;clip: rect(1px 1px 1px 1px);clip: rect(1px, 1px, 1px, 1px);height: 1px;margin: -1px;overflow: hidden;padding: 0;position: absolute;width: 1px;}#sk-container-id-7 div.sk-estimator {font-family: monospace;background-color: #f0f8ff;border: 1px dotted black;border-radius: 0.25em;box-sizing: border-box;margin-bottom: 0.5em;}#sk-container-id-7 div.sk-estimator:hover {background-color: #d4ebff;}#sk-container-id-7 div.sk-parallel-item::after {content: \"\";width: 100%;border-bottom: 1px solid gray;flex-grow: 1;}#sk-container-id-7 div.sk-label:hover label.sk-toggleable__label {background-color: #d4ebff;}#sk-container-id-7 div.sk-serial::before {content: \"\";position: absolute;border-left: 1px solid gray;box-sizing: border-box;top: 0;bottom: 0;left: 50%;z-index: 0;}#sk-container-id-7 div.sk-serial {display: flex;flex-direction: column;align-items: center;background-color: white;padding-right: 0.2em;padding-left: 0.2em;position: relative;}#sk-container-id-7 div.sk-item {position: relative;z-index: 1;}#sk-container-id-7 div.sk-parallel {display: flex;align-items: stretch;justify-content: center;background-color: white;position: relative;}#sk-container-id-7 div.sk-item::before, #sk-container-id-7 div.sk-parallel-item::before {content: \"\";position: absolute;border-left: 1px solid gray;box-sizing: border-box;top: 0;bottom: 0;left: 50%;z-index: -1;}#sk-container-id-7 div.sk-parallel-item {display: flex;flex-direction: column;z-index: 1;position: relative;background-color: white;}#sk-container-id-7 div.sk-parallel-item:first-child::after {align-self: flex-end;width: 50%;}#sk-container-id-7 div.sk-parallel-item:last-child::after {align-self: flex-start;width: 50%;}#sk-container-id-7 div.sk-parallel-item:only-child::after {width: 0;}#sk-container-id-7 div.sk-dashed-wrapped {border: 1px dashed gray;margin: 0 0.4em 0.5em 0.4em;box-sizing: border-box;padding-bottom: 0.4em;background-color: white;}#sk-container-id-7 div.sk-label label {font-family: monospace;font-weight: bold;display: inline-block;line-height: 1.2em;}#sk-container-id-7 div.sk-label-container {text-align: center;}#sk-container-id-7 div.sk-container {/* jupyter's `normalize.less` sets `[hidden] { display: none; }` but bootstrap.min.css set `[hidden] { display: none !important; }` so we also need the `!important` here to be able to override the default hidden behavior on the sphinx rendered scikit-learn.org. See: https://github.com/scikit-learn/scikit-learn/issues/21755 */display: inline-block !important;position: relative;}#sk-container-id-7 div.sk-text-repr-fallback {display: none;}</style><div id=\"sk-container-id-7\" class=\"sk-top-container\"><div class=\"sk-text-repr-fallback\"><pre>MLPClassifier(activation=&#x27;logistic&#x27;, hidden_layer_sizes=2, random_state=1,\n",
              "              solver=&#x27;lbfgs&#x27;)</pre><b>In a Jupyter environment, please rerun this cell to show the HTML representation or trust the notebook. <br />On GitHub, the HTML representation is unable to render, please try loading this page with nbviewer.org.</b></div><div class=\"sk-container\" hidden><div class=\"sk-item\"><div class=\"sk-estimator sk-toggleable\"><input class=\"sk-toggleable__control sk-hidden--visually\" id=\"sk-estimator-id-11\" type=\"checkbox\" checked><label for=\"sk-estimator-id-11\" class=\"sk-toggleable__label sk-toggleable__label-arrow\">MLPClassifier</label><div class=\"sk-toggleable__content\"><pre>MLPClassifier(activation=&#x27;logistic&#x27;, hidden_layer_sizes=2, random_state=1,\n",
              "              solver=&#x27;lbfgs&#x27;)</pre></div></div></div></div></div>"
            ]
          },
          "metadata": {},
          "execution_count": 248
        }
      ]
    },
    {
      "cell_type": "code",
      "source": [
        "#predictions on train and test data\n",
        "y_pred_train = clf.predict(X_train)\n",
        "y_pred_valid = clf.predict(X_valid)\n",
        "y_pred_valid"
      ],
      "metadata": {
        "colab": {
          "base_uri": "https://localhost:8080/"
        },
        "id": "gb6hEJ8yZL_Y",
        "outputId": "a699e4f5-efe8-4507-f1b4-a42c0ad12548"
      },
      "execution_count": null,
      "outputs": [
        {
          "output_type": "execute_result",
          "data": {
            "text/plain": [
              "array([0, 1, 0, 0, 1, 1, 0, 1, 0, 1, 1, 1, 1, 1, 1, 1, 1, 0, 0, 1, 1, 1,\n",
              "       1, 0, 0, 1, 1, 0, 0, 0, 0, 1, 0], dtype=uint8)"
            ]
          },
          "metadata": {},
          "execution_count": 249
        }
      ]
    },
    {
      "cell_type": "markdown",
      "source": [
        "**Model Performance and Evaluation**"
      ],
      "metadata": {
        "id": "Qyi5qATKakWU"
      }
    },
    {
      "cell_type": "code",
      "source": [
        "#accuracy of train data\n",
        "classificationSummary(y_train, y_pred_train)"
      ],
      "metadata": {
        "colab": {
          "base_uri": "https://localhost:8080/"
        },
        "id": "8-TA0YyTZrtf",
        "outputId": "47f749bb-8a51-4354-9e47-cc1d7bac2264"
      },
      "execution_count": null,
      "outputs": [
        {
          "output_type": "stream",
          "name": "stdout",
          "text": [
            "Confusion Matrix (Accuracy 1.0000)\n",
            "\n",
            "       Prediction\n",
            "Actual  0  1\n",
            "     0 48  0\n",
            "     1  0 49\n"
          ]
        }
      ]
    },
    {
      "cell_type": "code",
      "source": [
        "#accuracy of test data\n",
        "classificationSummary(y_valid, y_pred_valid)"
      ],
      "metadata": {
        "colab": {
          "base_uri": "https://localhost:8080/"
        },
        "id": "E8u-nTLLZ6r4",
        "outputId": "64c818e9-5114-477c-93b8-7c3f34a0a33c"
      },
      "execution_count": null,
      "outputs": [
        {
          "output_type": "stream",
          "name": "stdout",
          "text": [
            "Confusion Matrix (Accuracy 0.9697)\n",
            "\n",
            "       Prediction\n",
            "Actual  0  1\n",
            "     0 14  1\n",
            "     1  0 18\n"
          ]
        }
      ]
    },
    {
      "cell_type": "code",
      "source": [
        "from sklearn.metrics import accuracy_score, precision_score, recall_score, f1_score\n",
        "print(\"Accuracy:\", accuracy_score(y_valid, y_pred_valid))\n",
        "print(\"Precision:\", precision_score(y_valid, y_pred_valid, average=\"binary\"))\n",
        "print(\"Recall:\", recall_score(y_valid, y_pred_valid, average=\"binary\"))\n",
        "print(\"F1 Score:\", f1_score(y_valid, y_pred_valid, average=\"binary\"))"
      ],
      "metadata": {
        "colab": {
          "base_uri": "https://localhost:8080/"
        },
        "id": "mszCZlRmapV1",
        "outputId": "a81ce73c-e6da-44a0-ce7d-ed7d9adfe2d1"
      },
      "execution_count": null,
      "outputs": [
        {
          "output_type": "stream",
          "name": "stdout",
          "text": [
            "Accuracy: 0.9696969696969697\n",
            "Precision: 0.9473684210526315\n",
            "Recall: 1.0\n",
            "F1 Score: 0.972972972972973\n"
          ]
        }
      ]
    },
    {
      "cell_type": "markdown",
      "source": [
        "##Hyperparameter Optimization"
      ],
      "metadata": {
        "id": "qC6dv_y8cPXv"
      }
    },
    {
      "cell_type": "code",
      "source": [
        "from sklearn.model_selection import cross_val_score, GridSearchCV\n",
        "param_grid = {'hidden_layer_sizes': [1,2,3,4,5,6,7,8],\n",
        "              'solver': ['lbfgs','adam']}"
      ],
      "metadata": {
        "id": "uk1pO89_cSte"
      },
      "execution_count": null,
      "outputs": []
    },
    {
      "cell_type": "code",
      "source": [
        "clf2 = GridSearchCV(MLPClassifier(activation='logistic', \n",
        "                    random_state=1, max_iter=500),\n",
        "                   param_grid=param_grid,\n",
        "                   cv=5, n_jobs=-1)\n",
        "clf2.fit(X_train, y_train)"
      ],
      "metadata": {
        "colab": {
          "base_uri": "https://localhost:8080/",
          "height": 118
        },
        "id": "iWzce9T7c8H4",
        "outputId": "f08dca5d-665e-4e08-89b0-2aa63849a32a"
      },
      "execution_count": null,
      "outputs": [
        {
          "output_type": "execute_result",
          "data": {
            "text/plain": [
              "GridSearchCV(cv=5,\n",
              "             estimator=MLPClassifier(activation='logistic', max_iter=500,\n",
              "                                     random_state=1),\n",
              "             n_jobs=-1,\n",
              "             param_grid={'hidden_layer_sizes': [1, 2, 3, 4, 5, 6, 7, 8],\n",
              "                         'solver': ['lbfgs', 'adam']})"
            ],
            "text/html": [
              "<style>#sk-container-id-8 {color: black;background-color: white;}#sk-container-id-8 pre{padding: 0;}#sk-container-id-8 div.sk-toggleable {background-color: white;}#sk-container-id-8 label.sk-toggleable__label {cursor: pointer;display: block;width: 100%;margin-bottom: 0;padding: 0.3em;box-sizing: border-box;text-align: center;}#sk-container-id-8 label.sk-toggleable__label-arrow:before {content: \"▸\";float: left;margin-right: 0.25em;color: #696969;}#sk-container-id-8 label.sk-toggleable__label-arrow:hover:before {color: black;}#sk-container-id-8 div.sk-estimator:hover label.sk-toggleable__label-arrow:before {color: black;}#sk-container-id-8 div.sk-toggleable__content {max-height: 0;max-width: 0;overflow: hidden;text-align: left;background-color: #f0f8ff;}#sk-container-id-8 div.sk-toggleable__content pre {margin: 0.2em;color: black;border-radius: 0.25em;background-color: #f0f8ff;}#sk-container-id-8 input.sk-toggleable__control:checked~div.sk-toggleable__content {max-height: 200px;max-width: 100%;overflow: auto;}#sk-container-id-8 input.sk-toggleable__control:checked~label.sk-toggleable__label-arrow:before {content: \"▾\";}#sk-container-id-8 div.sk-estimator input.sk-toggleable__control:checked~label.sk-toggleable__label {background-color: #d4ebff;}#sk-container-id-8 div.sk-label input.sk-toggleable__control:checked~label.sk-toggleable__label {background-color: #d4ebff;}#sk-container-id-8 input.sk-hidden--visually {border: 0;clip: rect(1px 1px 1px 1px);clip: rect(1px, 1px, 1px, 1px);height: 1px;margin: -1px;overflow: hidden;padding: 0;position: absolute;width: 1px;}#sk-container-id-8 div.sk-estimator {font-family: monospace;background-color: #f0f8ff;border: 1px dotted black;border-radius: 0.25em;box-sizing: border-box;margin-bottom: 0.5em;}#sk-container-id-8 div.sk-estimator:hover {background-color: #d4ebff;}#sk-container-id-8 div.sk-parallel-item::after {content: \"\";width: 100%;border-bottom: 1px solid gray;flex-grow: 1;}#sk-container-id-8 div.sk-label:hover label.sk-toggleable__label {background-color: #d4ebff;}#sk-container-id-8 div.sk-serial::before {content: \"\";position: absolute;border-left: 1px solid gray;box-sizing: border-box;top: 0;bottom: 0;left: 50%;z-index: 0;}#sk-container-id-8 div.sk-serial {display: flex;flex-direction: column;align-items: center;background-color: white;padding-right: 0.2em;padding-left: 0.2em;position: relative;}#sk-container-id-8 div.sk-item {position: relative;z-index: 1;}#sk-container-id-8 div.sk-parallel {display: flex;align-items: stretch;justify-content: center;background-color: white;position: relative;}#sk-container-id-8 div.sk-item::before, #sk-container-id-8 div.sk-parallel-item::before {content: \"\";position: absolute;border-left: 1px solid gray;box-sizing: border-box;top: 0;bottom: 0;left: 50%;z-index: -1;}#sk-container-id-8 div.sk-parallel-item {display: flex;flex-direction: column;z-index: 1;position: relative;background-color: white;}#sk-container-id-8 div.sk-parallel-item:first-child::after {align-self: flex-end;width: 50%;}#sk-container-id-8 div.sk-parallel-item:last-child::after {align-self: flex-start;width: 50%;}#sk-container-id-8 div.sk-parallel-item:only-child::after {width: 0;}#sk-container-id-8 div.sk-dashed-wrapped {border: 1px dashed gray;margin: 0 0.4em 0.5em 0.4em;box-sizing: border-box;padding-bottom: 0.4em;background-color: white;}#sk-container-id-8 div.sk-label label {font-family: monospace;font-weight: bold;display: inline-block;line-height: 1.2em;}#sk-container-id-8 div.sk-label-container {text-align: center;}#sk-container-id-8 div.sk-container {/* jupyter's `normalize.less` sets `[hidden] { display: none; }` but bootstrap.min.css set `[hidden] { display: none !important; }` so we also need the `!important` here to be able to override the default hidden behavior on the sphinx rendered scikit-learn.org. See: https://github.com/scikit-learn/scikit-learn/issues/21755 */display: inline-block !important;position: relative;}#sk-container-id-8 div.sk-text-repr-fallback {display: none;}</style><div id=\"sk-container-id-8\" class=\"sk-top-container\"><div class=\"sk-text-repr-fallback\"><pre>GridSearchCV(cv=5,\n",
              "             estimator=MLPClassifier(activation=&#x27;logistic&#x27;, max_iter=500,\n",
              "                                     random_state=1),\n",
              "             n_jobs=-1,\n",
              "             param_grid={&#x27;hidden_layer_sizes&#x27;: [1, 2, 3, 4, 5, 6, 7, 8],\n",
              "                         &#x27;solver&#x27;: [&#x27;lbfgs&#x27;, &#x27;adam&#x27;]})</pre><b>In a Jupyter environment, please rerun this cell to show the HTML representation or trust the notebook. <br />On GitHub, the HTML representation is unable to render, please try loading this page with nbviewer.org.</b></div><div class=\"sk-container\" hidden><div class=\"sk-item sk-dashed-wrapped\"><div class=\"sk-label-container\"><div class=\"sk-label sk-toggleable\"><input class=\"sk-toggleable__control sk-hidden--visually\" id=\"sk-estimator-id-12\" type=\"checkbox\" ><label for=\"sk-estimator-id-12\" class=\"sk-toggleable__label sk-toggleable__label-arrow\">GridSearchCV</label><div class=\"sk-toggleable__content\"><pre>GridSearchCV(cv=5,\n",
              "             estimator=MLPClassifier(activation=&#x27;logistic&#x27;, max_iter=500,\n",
              "                                     random_state=1),\n",
              "             n_jobs=-1,\n",
              "             param_grid={&#x27;hidden_layer_sizes&#x27;: [1, 2, 3, 4, 5, 6, 7, 8],\n",
              "                         &#x27;solver&#x27;: [&#x27;lbfgs&#x27;, &#x27;adam&#x27;]})</pre></div></div></div><div class=\"sk-parallel\"><div class=\"sk-parallel-item\"><div class=\"sk-item\"><div class=\"sk-label-container\"><div class=\"sk-label sk-toggleable\"><input class=\"sk-toggleable__control sk-hidden--visually\" id=\"sk-estimator-id-13\" type=\"checkbox\" ><label for=\"sk-estimator-id-13\" class=\"sk-toggleable__label sk-toggleable__label-arrow\">estimator: MLPClassifier</label><div class=\"sk-toggleable__content\"><pre>MLPClassifier(activation=&#x27;logistic&#x27;, max_iter=500, random_state=1)</pre></div></div></div><div class=\"sk-serial\"><div class=\"sk-item\"><div class=\"sk-estimator sk-toggleable\"><input class=\"sk-toggleable__control sk-hidden--visually\" id=\"sk-estimator-id-14\" type=\"checkbox\" ><label for=\"sk-estimator-id-14\" class=\"sk-toggleable__label sk-toggleable__label-arrow\">MLPClassifier</label><div class=\"sk-toggleable__content\"><pre>MLPClassifier(activation=&#x27;logistic&#x27;, max_iter=500, random_state=1)</pre></div></div></div></div></div></div></div></div></div></div>"
            ]
          },
          "metadata": {},
          "execution_count": 254
        }
      ]
    },
    {
      "cell_type": "code",
      "source": [
        "clf2.best_estimator_"
      ],
      "metadata": {
        "colab": {
          "base_uri": "https://localhost:8080/",
          "height": 92
        },
        "id": "0JDnOjgTdIVB",
        "outputId": "1da1ca38-7c1b-40ab-ea0b-bf2565c3c7ea"
      },
      "execution_count": null,
      "outputs": [
        {
          "output_type": "execute_result",
          "data": {
            "text/plain": [
              "MLPClassifier(activation='logistic', hidden_layer_sizes=6, max_iter=500,\n",
              "              random_state=1, solver='lbfgs')"
            ],
            "text/html": [
              "<style>#sk-container-id-9 {color: black;background-color: white;}#sk-container-id-9 pre{padding: 0;}#sk-container-id-9 div.sk-toggleable {background-color: white;}#sk-container-id-9 label.sk-toggleable__label {cursor: pointer;display: block;width: 100%;margin-bottom: 0;padding: 0.3em;box-sizing: border-box;text-align: center;}#sk-container-id-9 label.sk-toggleable__label-arrow:before {content: \"▸\";float: left;margin-right: 0.25em;color: #696969;}#sk-container-id-9 label.sk-toggleable__label-arrow:hover:before {color: black;}#sk-container-id-9 div.sk-estimator:hover label.sk-toggleable__label-arrow:before {color: black;}#sk-container-id-9 div.sk-toggleable__content {max-height: 0;max-width: 0;overflow: hidden;text-align: left;background-color: #f0f8ff;}#sk-container-id-9 div.sk-toggleable__content pre {margin: 0.2em;color: black;border-radius: 0.25em;background-color: #f0f8ff;}#sk-container-id-9 input.sk-toggleable__control:checked~div.sk-toggleable__content {max-height: 200px;max-width: 100%;overflow: auto;}#sk-container-id-9 input.sk-toggleable__control:checked~label.sk-toggleable__label-arrow:before {content: \"▾\";}#sk-container-id-9 div.sk-estimator input.sk-toggleable__control:checked~label.sk-toggleable__label {background-color: #d4ebff;}#sk-container-id-9 div.sk-label input.sk-toggleable__control:checked~label.sk-toggleable__label {background-color: #d4ebff;}#sk-container-id-9 input.sk-hidden--visually {border: 0;clip: rect(1px 1px 1px 1px);clip: rect(1px, 1px, 1px, 1px);height: 1px;margin: -1px;overflow: hidden;padding: 0;position: absolute;width: 1px;}#sk-container-id-9 div.sk-estimator {font-family: monospace;background-color: #f0f8ff;border: 1px dotted black;border-radius: 0.25em;box-sizing: border-box;margin-bottom: 0.5em;}#sk-container-id-9 div.sk-estimator:hover {background-color: #d4ebff;}#sk-container-id-9 div.sk-parallel-item::after {content: \"\";width: 100%;border-bottom: 1px solid gray;flex-grow: 1;}#sk-container-id-9 div.sk-label:hover label.sk-toggleable__label {background-color: #d4ebff;}#sk-container-id-9 div.sk-serial::before {content: \"\";position: absolute;border-left: 1px solid gray;box-sizing: border-box;top: 0;bottom: 0;left: 50%;z-index: 0;}#sk-container-id-9 div.sk-serial {display: flex;flex-direction: column;align-items: center;background-color: white;padding-right: 0.2em;padding-left: 0.2em;position: relative;}#sk-container-id-9 div.sk-item {position: relative;z-index: 1;}#sk-container-id-9 div.sk-parallel {display: flex;align-items: stretch;justify-content: center;background-color: white;position: relative;}#sk-container-id-9 div.sk-item::before, #sk-container-id-9 div.sk-parallel-item::before {content: \"\";position: absolute;border-left: 1px solid gray;box-sizing: border-box;top: 0;bottom: 0;left: 50%;z-index: -1;}#sk-container-id-9 div.sk-parallel-item {display: flex;flex-direction: column;z-index: 1;position: relative;background-color: white;}#sk-container-id-9 div.sk-parallel-item:first-child::after {align-self: flex-end;width: 50%;}#sk-container-id-9 div.sk-parallel-item:last-child::after {align-self: flex-start;width: 50%;}#sk-container-id-9 div.sk-parallel-item:only-child::after {width: 0;}#sk-container-id-9 div.sk-dashed-wrapped {border: 1px dashed gray;margin: 0 0.4em 0.5em 0.4em;box-sizing: border-box;padding-bottom: 0.4em;background-color: white;}#sk-container-id-9 div.sk-label label {font-family: monospace;font-weight: bold;display: inline-block;line-height: 1.2em;}#sk-container-id-9 div.sk-label-container {text-align: center;}#sk-container-id-9 div.sk-container {/* jupyter's `normalize.less` sets `[hidden] { display: none; }` but bootstrap.min.css set `[hidden] { display: none !important; }` so we also need the `!important` here to be able to override the default hidden behavior on the sphinx rendered scikit-learn.org. See: https://github.com/scikit-learn/scikit-learn/issues/21755 */display: inline-block !important;position: relative;}#sk-container-id-9 div.sk-text-repr-fallback {display: none;}</style><div id=\"sk-container-id-9\" class=\"sk-top-container\"><div class=\"sk-text-repr-fallback\"><pre>MLPClassifier(activation=&#x27;logistic&#x27;, hidden_layer_sizes=6, max_iter=500,\n",
              "              random_state=1, solver=&#x27;lbfgs&#x27;)</pre><b>In a Jupyter environment, please rerun this cell to show the HTML representation or trust the notebook. <br />On GitHub, the HTML representation is unable to render, please try loading this page with nbviewer.org.</b></div><div class=\"sk-container\" hidden><div class=\"sk-item\"><div class=\"sk-estimator sk-toggleable\"><input class=\"sk-toggleable__control sk-hidden--visually\" id=\"sk-estimator-id-15\" type=\"checkbox\" checked><label for=\"sk-estimator-id-15\" class=\"sk-toggleable__label sk-toggleable__label-arrow\">MLPClassifier</label><div class=\"sk-toggleable__content\"><pre>MLPClassifier(activation=&#x27;logistic&#x27;, hidden_layer_sizes=6, max_iter=500,\n",
              "              random_state=1, solver=&#x27;lbfgs&#x27;)</pre></div></div></div></div></div>"
            ]
          },
          "metadata": {},
          "execution_count": 255
        }
      ]
    },
    {
      "cell_type": "code",
      "source": [
        "print(\"Accuracy:\", accuracy_score(y_valid, clf2.predict(X_valid)))\n",
        "print(\"Precision:\", precision_score(y_valid, clf2.predict(X_valid), average=\"binary\"))\n",
        "print(\"Recall:\", recall_score(y_valid, clf2.predict(X_valid), average=\"binary\"))\n",
        "print(\"F1 Score:\", f1_score(y_valid, clf2.predict(X_valid), average=\"binary\"))"
      ],
      "metadata": {
        "colab": {
          "base_uri": "https://localhost:8080/"
        },
        "id": "jlsw1LOxdTBA",
        "outputId": "c0ea464b-af75-4f28-d325-92e1f485ec0c"
      },
      "execution_count": null,
      "outputs": [
        {
          "output_type": "stream",
          "name": "stdout",
          "text": [
            "Accuracy: 1.0\n",
            "Precision: 1.0\n",
            "Recall: 1.0\n",
            "F1 Score: 1.0\n"
          ]
        }
      ]
    },
    {
      "cell_type": "code",
      "source": [
        "classificationSummary(y_valid, clf2.predict(X_valid))"
      ],
      "metadata": {
        "colab": {
          "base_uri": "https://localhost:8080/"
        },
        "id": "hdWtQ-rldfhI",
        "outputId": "1ba42eed-c6a7-47ff-c476-53c76837ae41"
      },
      "execution_count": null,
      "outputs": [
        {
          "output_type": "stream",
          "name": "stdout",
          "text": [
            "Confusion Matrix (Accuracy 1.0000)\n",
            "\n",
            "       Prediction\n",
            "Actual  0  1\n",
            "     0 15  0\n",
            "     1  0 18\n"
          ]
        }
      ]
    }
  ]
}
